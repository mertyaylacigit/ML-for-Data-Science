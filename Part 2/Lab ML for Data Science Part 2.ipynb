{
 "cells": [
  {
   "cell_type": "markdown",
   "metadata": {},
   "source": [
    "#  **1 The QM7 Dataset**"
   ]
  },
  {
   "cell_type": "markdown",
   "metadata": {},
   "source": [
    "## Loading the Data, Preprocessing, Initial Data Analysis"
   ]
  },
  {
   "cell_type": "code",
   "execution_count": 1,
   "metadata": {},
   "outputs": [
    {
     "name": "stdout",
     "output_type": "stream",
     "text": [
      "R shape: (7165, 23, 3)\n",
      "Z shape: (7165, 23)\n",
      "T shape: (7165,)\n"
     ]
    }
   ],
   "source": [
    "import scipy\n",
    "import numpy as np\n",
    "import matplotlib.pyplot as plt\n",
    "from sklearn.model_selection import train_test_split\n",
    "import itertools\n",
    "\n",
    "\n",
    "data = scipy.io.loadmat(\"qm7.mat\")\n",
    "\n",
    "# Extract the variables\n",
    "R = data['R']\n",
    "Z = data['Z']\n",
    "T = data['T'].flatten()\n",
    "\n",
    "print(f'R shape: {R.shape}')\n",
    "print(f'Z shape: {Z.shape}')\n",
    "print(f'T shape: {T.shape}')"
   ]
  },
  {
   "cell_type": "markdown",
   "metadata": {},
   "source": [
    "Our starting point is a simple quantum-chemical dataset, the QM7 dataset, which can be downloaded\n",
    "here:\n",
    "http://quantum-machine.org/data/qm7.mat\n",
    "1\n",
    "(It is provided as a Matlab file, and it can be loaded in Python using the function scipy.io.loadmat.)\n",
    "The QM7 dataset consists of 7165 organic molecules, each of which is composed of up to 23 atoms. The 3d\n",
    "coordinates of each atom in each molecule are available in the variable R. It is an array of size 7165×23×3\n",
    "containing for each molecule and atom a triplet representing the 3d coordinates. The variable Z is an array\n",
    "of size 7165×23 which gives for each molecule and atom of the molecule the corresponding atomic number.\n",
    "An atomic number of 1 corresponds to a hydrogen atom (H), the number 6 corresponds to carbon (C), the\n",
    "numbers 7 and 8 to nitrogen (N) and oxygen (O) respectively, and finally, the number 16 corresponds to\n",
    "sulfur (S). If the number is zero, then it indicates that there is no atom at this index, and the corresponding\n",
    "3d coordinate should therefore be ignored. This allows for representing in the same array molecules of\n",
    "different sizes. In addition to these geometrical features of the molecule, the dataset also provides for\n",
    "each molecule its atomization energy (computed via quantum-chemical simulation). These atomization\n",
    "energy values are stored in the variable T, an array of size 7165.\n"
   ]
  },
  {
   "cell_type": "markdown",
   "metadata": {},
   "source": [
    "## 1.1 Visualizing Molecules\n",
    "There are a variety of libraries for rendering molecular geometries with various degrees of sophistication. A quick and dirty approach is to use the scatter plot function of matplotlib, where each point is an\n",
    "atom (e.g. plotted according to its xy-coordinates and discarding the z-coordinate). Note that bonds are\n",
    "not provided as part of QM7 because they are strictly speaking not needed to infer chemical properties\n",
    "(bonds can be derived from atom coordinates). To better visualize the molecule, one can draw connections\n",
    "between nearby atoms by plotting a line between two atoms if the Euclidean distance between the two is\n",
    "smaller than a fixed threshold"
   ]
  },
  {
   "cell_type": "code",
   "execution_count": 2,
   "metadata": {},
   "outputs": [
    {
     "data": {
      "image/png": "[encoded data removed]",
      "text/plain": [
       "<Figure size 640x480 with 1 Axes>"
      ]
     },
     "metadata": {},
     "output_type": "display_data"
    }
   ],
   "source": [
    "def visualize_molecule(molecule_idx, threshold=3):  # change threshold if bonds are wrong\n",
    "    fig, ax = plt.subplots()\n",
    "    \n",
    "    # Get the coordinates and atomic numbers for the molecule\n",
    "    coords = R[molecule_idx]\n",
    "    atomic_numbers = Z[molecule_idx]\n",
    "    \n",
    "    # Define colors for different atoms\n",
    "    colors = {1: 'red', 6: 'blue', 7: 'green', 8: 'purple', 16: 'orange'}\n",
    "    \n",
    "    # Plot the atoms\n",
    "    for i, (x, y, z) in enumerate(coords):\n",
    "        if atomic_numbers[i] != 0:  # Ignore non-atoms\n",
    "            ax.scatter(x, y, s=100, color=colors.get(atomic_numbers[i], 'black'))\n",
    "            ax.text(x, y, str(atomic_numbers[i]), fontsize=12, ha='center')\n",
    "    \n",
    "    # Plot the bonds\n",
    "    for i in range(len(coords)):\n",
    "        for j in range(i+1, len(coords)):\n",
    "            if atomic_numbers[i] != 0 and atomic_numbers[j] != 0:\n",
    "                distance = np.linalg.norm(coords[i] - coords[j])\n",
    "                #print(distance)\n",
    "                if distance < threshold:\n",
    "                    ax.plot([coords[i][0], coords[j][0]], [coords[i][1], coords[j][1]], 'k-')\n",
    "    \n",
    "    plt.show()\n",
    "\n",
    "visualize_molecule(2)"
   ]
  },
  {
   "cell_type": "markdown",
   "metadata": {},
   "source": [
    "## 2.1 Represenation - encoding\n"
   ]
  },
  {
   "cell_type": "code",
   "execution_count": 3,
   "metadata": {},
   "outputs": [],
   "source": [
    "def encode_int_to_feature_vector(atom:int) -> list[int]: # return a one-hot-encoded vector of atom based on atom number\n",
    "    unique_atoms = [1,6,7,8,16]\n",
    "    atom_index = unique_atoms.index(atom)\n",
    "\n",
    "    encoded_atom = np.zeros(5)\n",
    "    encoded_atom[atom_index] = 1\n",
    "\n",
    "    return encoded_atom"
   ]
  },
  {
   "cell_type": "code",
   "execution_count": 4,
   "metadata": {},
   "outputs": [
    {
     "data": {
      "text/plain": [
       "array([0., 0., 0., 0., 1.])"
      ]
     },
     "execution_count": 4,
     "metadata": {},
     "output_type": "execute_result"
    }
   ],
   "source": [
    "encode_int_to_feature_vector(16)"
   ]
  },
  {
   "cell_type": "code",
   "execution_count": 5,
   "metadata": {},
   "outputs": [
    {
     "data": {
      "text/plain": [
       "array([6., 7., 7., 6., 6., 6., 8., 1., 1., 1., 1., 1., 1., 0., 0., 0., 0.,\n",
       "       0., 0., 0., 0., 0., 0.], dtype=float32)"
      ]
     },
     "execution_count": 5,
     "metadata": {},
     "output_type": "execute_result"
    }
   ],
   "source": [
    "Z[5000]"
   ]
  },
  {
   "cell_type": "code",
   "execution_count": 6,
   "metadata": {},
   "outputs": [
    {
     "data": {
      "text/plain": [
       "(array([4., 2., 0., 0., 0.]),\n",
       " array([6., 6., 1., 1., 1., 1., 0., 0., 0., 0., 0., 0., 0., 0., 0., 0., 0.,\n",
       "        0., 0., 0., 0., 0., 0.], dtype=float32))"
      ]
     },
     "execution_count": 6,
     "metadata": {},
     "output_type": "execute_result"
    }
   ],
   "source": [
    "def molecule_encoded(molecule: list[int]) -> list[int]:        # calculate all encoded atoms of one molecule and add them together\n",
    "    encoded_molecule = np.zeros(5)\n",
    "    for a in molecule:\n",
    "        if a !=0:\n",
    "            encoded_molecule += encode_int_to_feature_vector(a)\n",
    "        else:\n",
    "            return encoded_molecule\n",
    "    \n",
    "    return encoded_molecule\n",
    "        \n",
    "molecule_encoded(Z[2]), Z[2]"
   ]
  },
  {
   "cell_type": "code",
   "execution_count": 7,
   "metadata": {},
   "outputs": [],
   "source": [
    "def create_feature_vector(Z: list[list[int]]) -> list[list[int]]:     # return a 7165 x 5 array that contains all encoded molecules\n",
    "    X = []\n",
    "\n",
    "    for molecule in Z:\n",
    "        m = list(molecule_encoded(molecule))\n",
    "        X.append(m)\n",
    "    return np.array(X)"
   ]
  },
  {
   "cell_type": "markdown",
   "metadata": {},
   "source": [
    "## 2.2 training and testing model"
   ]
  },
  {
   "cell_type": "code",
   "execution_count": 8,
   "metadata": {},
   "outputs": [
    {
     "name": "stdout",
     "output_type": "stream",
     "text": [
      "Mean Absolute Error on validation set: 15.85 kcal/mol\n",
      "Mean Absolute Error on test set: 15.50 kcal/mol\n",
      "Contribution of each atom type to the predicted atomization energy:\n",
      "H: -68.65\n",
      "C: -157.60\n",
      "N: -102.69\n",
      "O: -101.23\n",
      "S: -80.70\n"
     ]
    }
   ],
   "source": [
    "# Assuming the necessary libraries are imported and the create_feature_vector function is defined\n",
    "X = create_feature_vector(Z)\n",
    "y = T\n",
    "\n",
    "# Split the data into training, validation, and test sets\n",
    "X_train_val, X_test, y_train_val, y_test = train_test_split(X, y, test_size=0.2, random_state=42)\n",
    "X_train, X_val, y_train, y_val = train_test_split(X_train_val, y_train_val, test_size=0.25, random_state=42)\n",
    "\n",
    "X_train_mean = np.mean(X_train, axis=0)\n",
    "y_train_mean = np.mean(y_train)\n",
    "\n",
    "# Center the training and validation data\n",
    "X_train_centered = X_train - X_train_mean\n",
    "X_val_centered = X_val - X_train_mean\n",
    "y_train_centered = y_train - y_train_mean\n",
    "y_val_centered = y_val - y_train_mean  # This step is not strictly necessary for evaluation but ensures consistency\n",
    "\n",
    "# Compute the covariance matrices using the centered training data\n",
    "Sigma_xx = np.dot(X_train_centered.T, X_train_centered) / X_train_centered.shape[0]\n",
    "Sigma_xt = np.dot(X_train_centered.T, y_train_centered) / X_train_centered.shape[0]\n",
    "\n",
    "# Regularization parameter\n",
    "lambda_reg = .0001\n",
    "\n",
    "# Closed-form solution for the ridge regression weights\n",
    "w = np.linalg.inv(Sigma_xx + lambda_reg * np.eye(Sigma_xx.shape[0])).dot(Sigma_xt)\n",
    "\n",
    "# Evaluate the model on the validation set\n",
    "y_val_pred_centered = np.dot(X_val_centered, w)\n",
    "y_val_pred = y_val_pred_centered + y_train_mean  # Add back the mean to get the final predictions\n",
    "\n",
    "# Calculate the Mean Absolute Error on the validation set\n",
    "mae_val = np.mean(np.abs(y_val_pred - y_val))\n",
    "print(f'Mean Absolute Error on validation set: {mae_val:.2f} kcal/mol')\n",
    "\n",
    "# NEW: Center the test data\n",
    "X_test_centered = X_test - X_train_mean\n",
    "y_test_centered = y_test - y_train_mean\n",
    "\n",
    "# Evaluate the model on the test set\n",
    "y_test_pred_centered = np.dot(X_test_centered, w)\n",
    "y_test_pred = y_test_pred_centered + y_train_mean  # Add back the mean to get the final predictions\n",
    "\n",
    "# Calculate the Mean Absolute Error on the test set\n",
    "mae_test = np.mean(np.abs(y_test_pred - y_test))\n",
    "print(f'Mean Absolute Error on test set: {mae_test:.2f} kcal/mol')\n",
    "\n",
    "# Output the learned weights\n",
    "contributions = dict(zip(['H', 'C', 'N', 'O', 'S'], w))\n",
    "print(\"Contribution of each atom type to the predicted atomization energy:\")\n",
    "for atom, weight in contributions.items():\n",
    "    print(f\"{atom}: {weight:.2f}\")\n",
    "\n",
    "# Calculate the contribution of each element i for each molecule individually in the test set\n",
    "#for i, x in enumerate(X_test):\n",
    "#    contributions_i = x * w\n",
    "#    print(f\"Molecule {x} contributions:\")\n",
    "#    for atom, contribution in zip(['H', 'C', 'N', 'O', 'S'], contributions_i):\n",
    "#        print(f\"  {atom}: {contribution:.2f}\")\n",
    "#    print(sum(contributions_i))"
   ]
  },
  {
   "cell_type": "markdown",
   "metadata": {},
   "source": [
    "## 3.2 \n"
   ]
  },
  {
   "cell_type": "code",
   "execution_count": 9,
   "metadata": {},
   "outputs": [],
   "source": [
    "def distance3d(atom1xyz, atom2xyz):\n",
    "    return np.linalg.norm(atom1xyz - atom2xyz)"
   ]
  },
  {
   "cell_type": "code",
   "execution_count": 10,
   "metadata": {},
   "outputs": [],
   "source": [
    "def create_atom_pairs(molecule):\n",
    "    pairs = []\n",
    "    for i,a1 in enumerate(molecule):\n",
    "        if a1 != 0:\n",
    "            for j,a2 in enumerate(molecule):\n",
    "                if not (j,i) in pairs:  # exclude double pairs\n",
    "                    if a2 !=0 and i!=j:\n",
    "                        pairs.append((i,j)) # atom numbers instead of indices would be append((a1,a2))\n",
    "\n",
    "    return np.array(pairs) # values of the pairs are indices of atoms and not atom number \n",
    "                           # because atoms with same atom number are not distinguishable"
   ]
  },
  {
   "cell_type": "code",
   "execution_count": 11,
   "metadata": {},
   "outputs": [
    {
     "data": {
      "text/plain": [
       "array([[0, 1],\n",
       "       [0, 2],\n",
       "       [0, 3],\n",
       "       [0, 4],\n",
       "       [1, 2],\n",
       "       [1, 3],\n",
       "       [1, 4],\n",
       "       [2, 3],\n",
       "       [2, 4],\n",
       "       [3, 4]])"
      ]
     },
     "execution_count": 11,
     "metadata": {},
     "output_type": "execute_result"
    }
   ],
   "source": [
    "create_atom_pairs(Z[0])"
   ]
  },
  {
   "cell_type": "code",
   "execution_count": 12,
   "metadata": {},
   "outputs": [],
   "source": [
    "def gaussian(x, mean, variance):\n",
    "    return (1 / np.sqrt(2 * np.pi * variance)) * np.exp(-0.5 * ((x - mean) ** 2) / variance)\n",
    "\n",
    "def molecule_encoded_distances(atom_pairs: list[tuple[int]], mol_index: int):\n",
    "    min_distance = 1\n",
    "    max_distance = 18\n",
    "    interval_steps = 0.17\n",
    "    variance = 0.085  # You can adjust the variance value as needed\n",
    "    intervals = np.zeros(round((max_distance -  min_distance)/ interval_steps), dtype=float)\n",
    "    \n",
    "    for p in atom_pairs:\n",
    "        atom1 = R[mol_index, p[0]]  # xyz\n",
    "        atom2 = R[mol_index, p[1]]  # xyz\n",
    "        distance = distance3d(atom1, atom2)\n",
    "        if distance <= max_distance:\n",
    "            for i in range(len(intervals)):\n",
    "                interval_start = min_distance + i * interval_steps\n",
    "                interval_end = interval_start + interval_steps\n",
    "                interval_center = (interval_start + interval_end) / 2\n",
    "                gauss = gaussian(distance, interval_center, variance)\n",
    "                \n",
    "                intervals[i] += gauss\n",
    "\n",
    "    return intervals"
   ]
  },
  {
   "cell_type": "code",
   "execution_count": 13,
   "metadata": {},
   "outputs": [],
   "source": [
    "def encode_molecules_distances(Z: list[list[int]]) -> list[list[int]]:\n",
    "    X = []\n",
    "\n",
    "    for i,molecule in enumerate(Z):\n",
    "        m = list(molecule_encoded_distances(create_atom_pairs(molecule), i))\n",
    "        X.append(m)\n",
    "    return np.array(X)"
   ]
  },
  {
   "cell_type": "code",
   "execution_count": 14,
   "metadata": {},
   "outputs": [
    {
     "data": {
      "text/plain": [
       "array([6., 4., 0., 0., 0., 0., 0., 0., 0., 0., 0., 0., 0., 0., 0.])"
      ]
     },
     "execution_count": 14,
     "metadata": {},
     "output_type": "execute_result"
    }
   ],
   "source": [
    "def encoded_molecule_pairs(molecule):\n",
    "    vector = np.zeros(15)    # 6*5/2 atom pair combinations\n",
    "    atom_types = [1, 6, 7, 8, 16] # Atom types: H (1), C (6), N (7), O (8), S (16)\n",
    "    atom_pair_types = [[a, b] for a, b in itertools.combinations(atom_types, 2)] + [[a,a] for a in atom_types]\n",
    "\n",
    "    atom_pair_types.sort()\n",
    "    \"\"\" atom pair types are looking like this: \n",
    "       [[1, 1],\n",
    "        [1, 6],\n",
    "        [1, 7],\n",
    "        [1, 8],\n",
    "        [1, 16],\n",
    "        [6, 6],\n",
    "        [6, 7],\n",
    "        [6, 8],\n",
    "        [6, 16],\n",
    "        [7, 7],\n",
    "        [7, 8],\n",
    "        [7, 16],\n",
    "        [8, 8],\n",
    "        [8, 16],\n",
    "        [16, 16]]\n",
    "    \"\"\"\n",
    "\n",
    "    atom_pairs_indices = create_atom_pairs(molecule)\n",
    "    \n",
    "    atom_pair_names = [ [molecule[a], molecule[b]] for (a,b) in atom_pairs_indices]\n",
    "    \n",
    "    for p in atom_pair_names:\n",
    "        p = np.array(p).astype(int).tolist()\n",
    "        if p in atom_pair_types:\n",
    "            pos = atom_pair_types.index(p)\n",
    "        elif [p[1], p[0]] in atom_pair_types:\n",
    "            pos = atom_pair_types.index([p[1], p[0]])\n",
    "        else:\n",
    "            pos = -1  # Pair not found\n",
    "        vector[pos] += 1\n",
    "\n",
    "    return vector\n",
    "    \n",
    "encoded_molecule_pairs(Z[0])"
   ]
  },
  {
   "cell_type": "code",
   "execution_count": 15,
   "metadata": {},
   "outputs": [],
   "source": [
    "def encode_molecules_names(Z: list[list[int]]) -> list[list[int]]:\n",
    "    X = []\n",
    "\n",
    "    for i,molecule in enumerate(Z):\n",
    "        m = list(encoded_molecule_pairs(molecule))\n",
    "        X.append(m)\n",
    "    return np.array(X)"
   ]
  },
  {
   "cell_type": "code",
   "execution_count": 16,
   "metadata": {},
   "outputs": [
    {
     "name": "stdout",
     "output_type": "stream",
     "text": [
      "[[1.94980377e-002 1.16537743e-001 4.95773157e-001 ... 0.00000000e+000\n",
      "  0.00000000e+000 0.00000000e+000]\n",
      " [2.80504510e-002 1.68874170e-001 7.23651497e-001 ... 0.00000000e+000\n",
      "  0.00000000e+000 0.00000000e+000]\n",
      " [2.25226251e-002 1.31336868e-001 5.45541606e-001 ... 0.00000000e+000\n",
      "  0.00000000e+000 0.00000000e+000]\n",
      " ...\n",
      " [4.27139567e-002 2.59274459e-001 1.12261174e+000 ... 5.08098267e-135\n",
      "  2.09516664e-141 6.14988459e-148]\n",
      " [5.10873519e-002 3.02481319e-001 1.27636076e+000 ... 4.48287738e-131\n",
      "  2.31091677e-137 8.47983883e-144]\n",
      " [5.95315307e-002 3.54365807e-001 1.50203618e+000 ... 2.06106296e-139\n",
      "  6.87048693e-146 1.63026385e-152]]\n"
     ]
    }
   ],
   "source": [
    "distances_map = encode_molecules_distances(Z)\n",
    "print(distances_map)"
   ]
  },
  {
   "cell_type": "code",
   "execution_count": 17,
   "metadata": {},
   "outputs": [],
   "source": [
    "name_map = encode_molecules_names(Z)"
   ]
  },
  {
   "cell_type": "code",
   "execution_count": 18,
   "metadata": {},
   "outputs": [
    {
     "data": {
      "text/plain": [
       "(7165, 100)"
      ]
     },
     "execution_count": 18,
     "metadata": {},
     "output_type": "execute_result"
    }
   ],
   "source": [
    "distances_map.shape"
   ]
  },
  {
   "cell_type": "code",
   "execution_count": 19,
   "metadata": {},
   "outputs": [
    {
     "data": {
      "text/plain": [
       "(7165, 15)"
      ]
     },
     "execution_count": 19,
     "metadata": {},
     "output_type": "execute_result"
    }
   ],
   "source": [
    "name_map.shape"
   ]
  },
  {
   "cell_type": "code",
   "execution_count": 20,
   "metadata": {},
   "outputs": [],
   "source": [
    "def combine_fmaps(distances_map, name_map):\n",
    "    big_feature_map = []\n",
    "    for i in range(len(distances_map)):\n",
    "        outer_product = np.outer(distances_map[i],name_map[i]).flatten() # flattened: (7150,20,15) -> (7150,300) \n",
    "        big_feature_map.append(outer_product)\n",
    "\n",
    "    big_feature_map = np.array(big_feature_map) \n",
    "    return big_feature_map"
   ]
  },
  {
   "cell_type": "code",
   "execution_count": 21,
   "metadata": {},
   "outputs": [],
   "source": [
    "combined_map = combine_fmaps(distances_map, name_map)"
   ]
  },
  {
   "cell_type": "code",
   "execution_count": 22,
   "metadata": {},
   "outputs": [
    {
     "data": {
      "text/plain": [
       "(7165, 1500)"
      ]
     },
     "execution_count": 22,
     "metadata": {},
     "output_type": "execute_result"
    }
   ],
   "source": [
    "combined_map.shape"
   ]
  },
  {
   "cell_type": "code",
   "execution_count": 23,
   "metadata": {},
   "outputs": [
    {
     "name": "stdout",
     "output_type": "stream",
     "text": [
      "['HH', 'HC', 'HN', 'HO', 'HS', 'CC', 'CN', 'CO', 'CS', 'NN', 'NO', 'NS', 'OO', 'OS', 'SS']\n"
     ]
    }
   ],
   "source": [
    "\n",
    "# Step 1: Define the predefined order\n",
    "atom_types = ['H', 'C', 'N', 'O', 'S']\n",
    "\n",
    "# Generate atom pairs\n",
    "atom_pair_types = [a+b for a, b in itertools.combinations(atom_types, 2)] + [a+a for a in atom_types]\n",
    "\n",
    "# Step 2: Create a dictionary to map each atom type to its position\n",
    "order_dict = {atom: index for index, atom in enumerate(atom_types)}\n",
    "\n",
    "# Step 3: Sort the atom_pair_types using the dictionary\n",
    "sorted_atom_pair_types = sorted(atom_pair_types, key=lambda x: (order_dict[x[0]], order_dict[x[1]]))\n",
    "\n",
    "print(sorted_atom_pair_types)"
   ]
  },
  {
   "cell_type": "code",
   "execution_count": 28,
   "metadata": {},
   "outputs": [
    {
     "name": "stdout",
     "output_type": "stream",
     "text": [
      "Mean Absolute Error on validation set: 10.64 kcal/mol\n",
      "Mean Absolute Error on test set: 10.439 kcal/mol\n"
     ]
    }
   ],
   "source": [
    "\n",
    "X = combined_map\n",
    "y = T\n",
    "\n",
    "# Split the data into training, validation, and test sets\n",
    "X_train_val, X_test, y_train_val, y_test = train_test_split(X, y, test_size=0.2, random_state=42)\n",
    "X_train, X_val, y_train, y_val = train_test_split(X_train_val, y_train_val, test_size=0.25, random_state=42)\n",
    "\n",
    "X_train_mean = np.mean(X_train, axis=0)\n",
    "y_train_mean = np.mean(y_train)\n",
    "\n",
    "# Center the training and validation data\n",
    "X_train_centered = X_train - X_train_mean\n",
    "X_val_centered = X_val - X_train_mean\n",
    "y_train_centered = y_train - y_train_mean\n",
    "y_val_centered = y_val - y_train_mean  # This step is not strictly necessary for evaluation but ensures consistency\n",
    "\n",
    "# Compute the covariance matrices using the centered training data\n",
    "Sigma_xx = np.dot(X_train_centered.T, X_train_centered) / X_train_centered.shape[0]\n",
    "Sigma_xt = np.dot(X_train_centered.T, y_train_centered) / X_train_centered.shape[0]\n",
    "\n",
    "# Regularization parameter\n",
    "lambda_reg = .001\n",
    "\n",
    "# Closed-form solution for the ridge regression weights\n",
    "w = np.linalg.inv(Sigma_xx + lambda_reg * np.eye(Sigma_xx.shape[0])).dot(Sigma_xt)\n",
    "\n",
    "\n",
    "# Evaluate the model on the validation set\n",
    "y_val_pred_centered = np.dot(X_val_centered, w)\n",
    "y_val_pred = y_val_pred_centered + y_train_mean  # Add back the mean to get the final predictions\n",
    "\n",
    "# Calculate the Mean Absolute Error on the validation set\n",
    "mae_val = np.mean(np.abs(y_val_pred - y_val))\n",
    "print(f'Mean Absolute Error on validation set: {mae_val:.2f} kcal/mol')\n",
    "\n",
    "# NEW: Center the test data\n",
    "X_test_centered = X_test - X_train_mean\n",
    "y_test_centered = y_test - y_train_mean\n",
    "\n",
    "# Evaluate the model on the test set\n",
    "y_test_pred_centered = np.dot(X_test_centered, w)\n",
    "y_test_pred = y_test_pred_centered + y_train_mean  # Add back the mean to get the final predictions\n",
    "\n",
    "# Calculate the Mean Absolute Error on the test set\n",
    "mae_test = np.mean(np.abs(y_test_pred - y_test))\n",
    "print(f'Mean Absolute Error on test set: {mae_test:.3f} kcal/mol')"
   ]
  },
  {
   "cell_type": "code",
   "execution_count": 25,
   "metadata": {},
   "outputs": [
    {
     "data": {
      "image/png": "[encoded data removed]",
      "text/plain": [
       "<Figure size 2500x600 with 2 Axes>"
      ]
     },
     "metadata": {},
     "output_type": "display_data"
    }
   ],
   "source": [
    "num_bins = int(w.shape[0]/15)\n",
    "shaped_w = w.reshape((num_bins,15))\n",
    "\n",
    "matrix = shaped_w.T\n",
    "\n",
    "\n",
    "plt.figure(figsize=(25, 6))\n",
    "plt.imshow(matrix, aspect='auto', cmap='viridis') \n",
    "plt.colorbar()  \n",
    "plt.title('Pairwise Potentials')\n",
    "plt.xlabel('Distance bins')\n",
    "plt.ylabel('Atom pair types')\n",
    "plt.yticks(ticks=np.arange(len(sorted_atom_pair_types)), labels=sorted_atom_pair_types) \n",
    "plt.xticks(ticks=np.arange(num_bins), labels=[f'{x * 0.17:.2f}'  for x in range(num_bins)], rotation=90) # interval_steps = 0.17 \n",
    "plt.show()"
   ]
  }
 ],
 "metadata": {
  "kernelspec": {
   "display_name": "base",
   "language": "python",
   "name": "python3"
  },
  "language_info": {
   "codemirror_mode": {
    "name": "ipython",
    "version": 3
   },
   "file_extension": ".py",
   "mimetype": "text/x-python",
   "name": "python",
   "nbconvert_exporter": "python",
   "pygments_lexer": "ipython3",
   "version": "3.11.1"
  }
 },
 "nbformat": 4,
 "nbformat_minor": 2
}

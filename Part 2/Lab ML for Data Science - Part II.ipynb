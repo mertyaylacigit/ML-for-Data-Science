{
 "cells": [
  {
   "cell_type": "markdown",
   "metadata": {},
   "source": [
    "Lab ML for Data Science: Part II"
   ]
  },
  {
   "cell_type": "code",
   "execution_count": 1,
   "metadata": {},
   "outputs": [],
   "source": [
    "import numpy as np\n",
    "import pandas as pd\n",
    "import torch,torch.optim\n",
    "import scipy,scipy.spatial\n",
    "import sklearn,sklearn.datasets\n",
    "import seaborn as sns\n",
    "from matplotlib import pyplot as plt"
   ]
  },
  {
   "cell_type": "markdown",
   "metadata": {},
   "source": [
    "# 1 The QM7 Dataset\n",
    "\n",
    "The QM7 dataset consists of 7165 organic molecules, each of which is composed of up to 23 atoms. The 3d coordinates of each atom in each molecule are available in the variable R. It is an array of size 7165 ×23 ×3 containing for each molecule and atom a triplet representing the 3d coordinates. The variable Z is an array of size 7165×23 which gives for each molecule and atom of the molecule the corresponding atomic number. An atomic number of 1 corresponds to a hydrogen atom (H), the number 6 corresponds to carbon (C), the numbers 7 and 8 to nitrogen (N) and oxygen (O) respectively, and finally, the number 16 corresponds to sulfur (S). If the number is zero, then it indicates that there is no atom at this index, and the corresponding 3d coordinate should therefore be ignored. This allows for representing in the same array molecules of different sizes. In addition to these geometrical features of the molecule, the dataset also provides for each molecule its atomization energy (computed via quantum-chemical simulation). These atomization energy values are stored in the variable T, an array of size 7165."
   ]
  },
  {
   "cell_type": "markdown",
   "metadata": {},
   "source": [
    "TLDR:\n",
    "\n",
    "3D coordinates of each atom in each molecule: \\\n",
    "R: 7165 x 23 x 3\n",
    "\n",
    "Atomic number of each atom in each molecule: \\\n",
    "Z: 7165 x 23 \n",
    "- 1:    Hydrogen(H)\n",
    "- 6:    Carbon(C)\n",
    "- 7:    Nitrogen(N)\n",
    "- 8:    Oxygen(O)\n",
    "- 16:   Sulfur(S)\n",
    "- 0:    No atom\n",
    "\n",
    "Atomization energy values of the molecules: \\\n",
    "T: 7165\n",
    "\n"
   ]
  },
  {
   "cell_type": "code",
   "execution_count": 2,
   "metadata": {},
   "outputs": [],
   "source": [
    "dataset = scipy.io.loadmat(\"qm7.mat\")\n",
    "R = dataset[\"R\"]\n",
    "Z = dataset[\"Z\"]\n",
    "T = dataset[\"T\"]"
   ]
  },
  {
   "cell_type": "markdown",
   "metadata": {},
   "source": [
    "## 1.1 Visualizing Molecules\n",
    "There are a variety of libraries for rendering molecular geometries with various degrees of sophistication. A quick and dirty approach is to use the scatter plot function of matplotlib, where each point is an atom (e.g. plotted according to its xy-coordinates and discarding the z-coordinate). Note that bonds are not provided as part of QM7 because they are strictly speaking not needed to infer chemical properties (bonds can be derived from atom coordinates). To better visualize the molecule, one can draw connections between nearby atoms by plotting a line between two atoms if the Euclidean distance between the two is smaller than a fixed threshold."
   ]
  },
  {
   "cell_type": "code",
   "execution_count": null,
   "metadata": {},
   "outputs": [],
   "source": [
    "for visual,atom in enumerate(molecule_xy[:1000]):\n",
    "    atom_xy = atom[(atom[:,0] != 0) | (atom[:,1] != 0), :]\n",
    "    atom_x = atom_xy[:,0]\n",
    "    atom_y = atom_xy[:,1]\n",
    "    ax = plt.subplot(720, 10, visual + 1)\n",
    "    plt.scatter(atom_x, atom_y,marker='.',linewidths=0.01)\n",
    "    ax.set_xlim(xlim)\n",
    "    ax.set_ylim(ylim)\n",
    "\n",
    "\n",
    "plt.show()"
   ]
  },
  {
   "cell_type": "code",
   "execution_count": 224,
   "metadata": {},
   "outputs": [],
   "source": [
    "molecule_xy = R[:,:,:2]\n",
    "\n",
    "xlim = [-10,20]\n",
    "ylim = [-5,15]\n",
    "\n",
    "plt.figure(figsize=(15, 500))\n",
    "for visual,atom in enumerate(molecule_xy[:1000]):\n",
    "    atom_xy = atom[(atom[:,0] != 0) | (atom[:,1] != 0), :]\n",
    "    atom_x = atom_xy[:,0]\n",
    "    atom_y = atom_xy[:,1]\n",
    "    ax = plt.subplot(720, 10, visual + 1)\n",
    "    plt.scatter(atom_x, atom_y,marker='.',linewidths=0.01)\n",
    "    ax.set_xlim(xlim)\n",
    "    ax.set_ylim(ylim)\n",
    "\n",
    "plt.show()\n",
    "\n",
    "\n"
   ]
  },
  {
   "cell_type": "code",
   "execution_count": 175,
   "metadata": {},
   "outputs": [
    {
     "name": "stdout",
     "output_type": "stream",
     "text": [
      "(7165, 23, 2)\n",
      "[-5.447457  -9.9047165]\n",
      "[6. 6. 6. 6. 6. 7. 1. 1. 1. 1. 1. 1. 1. 1. 1. 0. 0. 0. 0. 0. 0. 0. 0.]\n",
      "[ 1.7828054e+00  1.5306781e-03  5.6453681e-01  1.8640070e+00\n",
      " -2.2841120e+00  1.4654070e+00 -2.3087163e+00 -1.4176159e+00\n",
      "  5.3248703e-01 -1.8675597e+00  1.4954537e+00 -2.4358571e-02\n",
      "  3.8540020e+00 -1.5665829e-02  1.0439225e+00  2.2090899e-02\n",
      "  1.3178195e+00  3.7774303e+00 -3.0662508e+00  2.2650447e+00\n",
      " -3.3047342e+00  2.2419901e+00 -3.3425286e+00 -2.1997924e+00\n",
      " -3.1045365e+00 -2.1784008e+00  1.2529262e+00 -3.7953260e+00\n",
      "  4.9032724e-01 -2.7816769e-02]\n",
      "[[ 1.7828054e+00  1.5306781e-03]\n",
      " [ 5.6453681e-01  1.8640070e+00]\n",
      " [-2.2841120e+00  1.4654070e+00]\n",
      " [-2.3087163e+00 -1.4176159e+00]\n",
      " [ 5.3248703e-01 -1.8675597e+00]\n",
      " [ 1.4954537e+00 -2.4358571e-02]\n",
      " [ 3.8540020e+00 -1.5665829e-02]\n",
      " [ 1.0439225e+00  2.2090899e-02]\n",
      " [ 1.3178195e+00  3.7774303e+00]\n",
      " [-3.0662508e+00  2.2650447e+00]\n",
      " [-3.3047342e+00  2.2419901e+00]\n",
      " [-3.3425286e+00 -2.1997924e+00]\n",
      " [-3.1045365e+00 -2.1784008e+00]\n",
      " [ 1.2529262e+00 -3.7953260e+00]\n",
      " [ 4.9032724e-01 -2.7816769e-02]]\n",
      "[[0.         2.22553286 4.32235482 4.33064974 2.24873183 0.28851563\n",
      "  2.07126794 0.7391689  3.80442241 5.35134022 5.55902134 5.57807064\n",
      "  5.35146827 3.83365264 1.29281135]\n",
      " [2.22553286 0.         2.87640085 4.36172353 3.7317043  2.10535764\n",
      "  3.78863447 1.90327759 2.05636171 3.65286872 3.88768949 5.63734205\n",
      "  5.45922702 5.70104639 1.8932787 ]\n",
      " [4.32235482 2.87640085 0.         2.88312789 4.3637022  4.06257533\n",
      "  6.31427113 3.62753018 4.28011236 1.11855333 1.28247848 3.81496164\n",
      "  3.73502765 6.339239   3.15075074]\n",
      " [4.33064974 4.36172353 2.88312789 0.         2.87661012 4.05128072\n",
      "  6.32017094 3.64869056 6.33563466 3.75976694 3.79272562 1.2963672\n",
      "  1.10096479 4.28238285 3.12508981]\n",
      " [2.24873183 3.7317043  4.3637022  2.87661012 0.         2.07959013\n",
      "  3.80289001 1.95763775 5.699356   5.47990263 5.62251423 3.88923188\n",
      "  3.65028254 2.05798825 1.84022591]\n",
      " [0.28851563 2.10535764 4.06257533 4.05128072 2.07959013 0.\n",
      "  2.3585643  0.45391404 3.80593648 5.10397055 5.30830863 5.30458151\n",
      "  5.07935114 3.77875838 1.00513243]\n",
      " [2.07126794 3.78863447 6.31427113 6.32017094 3.80289001 2.3585643\n",
      "  0.         2.8103331  4.5628719  7.28639412 7.50629833 7.52066893\n",
      "  7.28688417 4.58818331 3.36369671]\n",
      " [0.7391689  1.90327759 3.62753018 3.64869056 1.95763775 0.45391404\n",
      "  2.8103331  0.         3.76531453 4.68234627 4.8824961  4.91708438\n",
      "  4.69594253 3.82313409 0.55584039]\n",
      " [3.80442241 2.05636171 4.28011236 6.33563466 5.699356   3.80593648\n",
      "  4.5628719  3.76531453 0.         4.63760525 4.87089103 7.57931626\n",
      "  7.41816394 7.57303433 3.89418138]\n",
      " [5.35134022 3.65286872 1.11855333 3.75976694 5.47990263 5.10397055\n",
      "  7.28639412 4.68234627 4.63760525 0.         0.2395952  4.47337675\n",
      "  4.44361038 7.44200128 4.23160265]\n",
      " [5.55902134 3.88768949 1.28247848 3.79272562 5.62251423 5.30830863\n",
      "  7.50629833 4.8824961  4.87089103 0.2395952  0.         4.44194326\n",
      "  4.42492196 7.56448639 4.4220487 ]\n",
      " [5.57807064 5.63734205 3.81496164 1.2963672  3.88923188 5.30458151\n",
      "  7.52066893 4.91708438 7.57931626 4.47337675 4.44194326 0.\n",
      "  0.23895149 4.86455881 4.40548088]\n",
      " [5.35146827 5.45922702 3.73502765 1.10096479 3.65028254 5.07935114\n",
      "  7.28688417 4.69594253 7.41816394 4.44361038 4.42492196 0.23895149\n",
      "  0.         4.64778753 4.18904011]\n",
      " [3.83365264 5.70104639 6.339239   4.28238285 2.05798825 3.77875838\n",
      "  4.58818331 3.82313409 7.57303433 7.44200128 7.56448639 4.86455881\n",
      "  4.64778753 0.         3.84391506]\n",
      " [1.29281135 1.8932787  3.15075074 3.12508981 1.84022591 1.00513243\n",
      "  3.36369671 0.55584039 3.89418138 4.23160265 4.4220487  4.40548088\n",
      "  4.18904011 3.84391506 0.        ]]\n",
      "[ 5 14  9 12 14  0  0  5  1 10  9 12 11  4  7]\n",
      "3.999867366825212\n",
      "3.093283360518543\n",
      "4.0\n"
     ]
    },
    {
     "data": {
      "image/png": "[encoded data removed]",
      "text/plain": [
       "<Figure size 640x480 with 1 Axes>"
      ]
     },
     "metadata": {},
     "output_type": "display_data"
    }
   ],
   "source": [
    "molecule_xy = R[:,:,:2]\n",
    "print(molecule_xy.shape)\n",
    "atom_xy = molecule_xy[2]\n",
    "#print(atom_xy)\n",
    "print(np.min(np.min(molecule_xy,axis=1),axis=0))\n",
    "print(Z[225])\n",
    "\n",
    "def atom_distance(xy):\n",
    "    atom_dist = scipy.spatial.distance.cdist(xy,xy, 'euclidean')\n",
    "    return atom_dist\n",
    "\n",
    "atomasda = atom_xy[np.nonzero(atom_xy)]\n",
    "print(atomasda)\n",
    "asdgaf = atomasda.reshape(int(len(atomasda)/2),2)\n",
    "print(asdgaf)\n",
    "atom_distances = atom_distance(asdgaf)\n",
    "print(atom_distances)\n",
    "\n",
    "\n",
    "#print(atom_distance(atom_x,atom_y))\n",
    "\n",
    "#plt.figure(figsize=(30, 20))\n",
    "plt.scatter(asdgaf[:,0],asdgaf[:,1],marker='.',linewidths=0.1,edgecolors=None)\n",
    "atom_distances_masf = np.ma.masked_equal(atom_distances, 0.)\n",
    "\n",
    "potata = np.argmin(atom_distances_masf,axis=1)\n",
    "potata2 = np.mean(atom_distances_masf)\n",
    "potata3 = np.std(atom_distances_masf)\n",
    "\n",
    "print(potata)\n",
    "print(potata2)\n",
    "print(potata2-1/2*potata3)\n",
    "print(np.round(potata2))\n",
    "for i,ma in enumerate(potata):\n",
    "    plt.plot([asdgaf[i,0], asdgaf[ma,0]], [asdgaf[i,1], asdgaf[ma,1]])\n",
    "#[2.06348646 2.06347194 1.21548155 1.16859769 3.37018079 2.93778365 2.89950239 2.93777702 2.89949876 0.04688387]"
   ]
  }
 ],
 "metadata": {
  "kernelspec": {
   "display_name": "Python 3",
   "language": "python",
   "name": "python3"
  },
  "language_info": {
   "codemirror_mode": {
    "name": "ipython",
    "version": 3
   },
   "file_extension": ".py",
   "mimetype": "text/x-python",
   "name": "python",
   "nbconvert_exporter": "python",
   "pygments_lexer": "ipython3",
   "version": "3.11.1"
  }
 },
 "nbformat": 4,
 "nbformat_minor": 2
}
